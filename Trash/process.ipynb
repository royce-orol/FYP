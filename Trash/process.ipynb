{
 "cells": [
  {
   "cell_type": "code",
   "execution_count": 1,
   "metadata": {},
   "outputs": [
    {
     "name": "stdout",
     "output_type": "stream",
     "text": [
      "The number of rows for the years 2020 and 2021: 8431\n"
     ]
    }
   ],
   "source": [
    "import pandas as pd\n",
    "\n",
    "# Load the data from the CSV or another source\n",
    "data = pd.read_csv('Updated_Expanded_Individual_Data.csv')  # Replace with your actual file path\n",
    "\n",
    "# Filter the data for the years 2020 and 2021\n",
    "filtered_data = data[data['Year'].isin([2020, 2021 , 2019])]\n",
    "\n",
    "# Count the number of rows\n",
    "row_count = filtered_data.shape[0]\n",
    "\n",
    "print(f'The number of rows for the years 2020 and 2021: {row_count}')"
   ]
  }
 ],
 "metadata": {
  "kernelspec": {
   "display_name": "datamining-5l9yRiuj",
   "language": "python",
   "name": "python3"
  },
  "language_info": {
   "codemirror_mode": {
    "name": "ipython",
    "version": 3
   },
   "file_extension": ".py",
   "mimetype": "text/x-python",
   "name": "python",
   "nbconvert_exporter": "python",
   "pygments_lexer": "ipython3",
   "version": "3.12.0"
  }
 },
 "nbformat": 4,
 "nbformat_minor": 2
}
